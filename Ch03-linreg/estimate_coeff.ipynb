{
 "cells": [
  {
   "cell_type": "markdown",
   "metadata": {},
   "source": [
    "## Import packages"
   ]
  },
  {
   "cell_type": "code",
   "execution_count": 36,
   "metadata": {},
   "outputs": [],
   "source": [
    "from ISLP import load_data\n",
    "import pandas as pd\n",
    "import numpy as np\n",
    "from ISLP.models import summarize"
   ]
  },
  {
   "cell_type": "markdown",
   "metadata": {},
   "source": [
    "## Simple Linear Regression"
   ]
  },
  {
   "cell_type": "markdown",
   "metadata": {},
   "source": [
    "Simple Linear Regression is an approach to predict a quantitative response Y based on a single predictor X, assuming there is approximately a linear relationship between X and Y.\n",
    "\n",
    "$$\n",
    "y \\approx \\beta_0 + \\beta_1 x \\tag{1}\n",
    "$$\n",
    "\n",
    "In equation 1, $\\beta_0$ and $\\beta_1$ are two unknown constants that represent the *intercept* and *slope* in the linear model. $\\beta_0$ and $\\beta_1$ are also known as the model *coefficients* or *parameters*. Once we have used our training data to produce estimates $\\hat{\\beta}_0$ and $\\hat{\\beta}_1$ for the model coefficients, we can predict future $\\hat{y}$ by computing:\n",
    "\n",
    "$$\n",
    "\\hat{y} \\approx \\hat{\\beta_0} + \\hat{\\beta_1} x \\tag{2}\n",
    "$$\n",
    "\n",
    "Let's first load the Boston dataset using the `load_data` method from the `ISLP` package:"
   ]
  },
  {
   "cell_type": "code",
   "execution_count": 30,
   "metadata": {},
   "outputs": [],
   "source": [
    "Boston_dataset = load_data(dataset=\"Boston\")"
   ]
  },
  {
   "cell_type": "markdown",
   "metadata": {},
   "source": [
    "We start by fitting simple linear regression model with `lstat` to be the only predictor and `medv` to be the response."
   ]
  },
  {
   "cell_type": "code",
   "execution_count": 23,
   "metadata": {},
   "outputs": [],
   "source": [
    "X = Boston_dataset['lstat']\n",
    "y = Boston_dataset['medv']"
   ]
  },
  {
   "cell_type": "markdown",
   "metadata": {},
   "source": [
    "## Least Squares Method"
   ]
  },
  {
   "cell_type": "markdown",
   "metadata": {},
   "source": [
    "The Least Squares Method is used to estimate $\\beta_0$ and $\\beta_1$ of formula (2):\n",
    "\n",
    "$$\n",
    "\\hat{\\beta_1} = \\frac{\\sum_{i=1}^{n} (x_i - \\bar{x})(y_i - \\bar{y})}{\\sum_{i=1}^{n} (x_i - \\bar{x})^2} \\\\\n",
    "\n",
    "\\hat{\\beta_0} = \\bar{y} - \\hat{\\beta_1} \\bar{x}\n",
    "$$"
   ]
  },
  {
   "cell_type": "markdown",
   "metadata": {},
   "source": [
    "We now attempt to calculate $\\hat{\\beta_1}$ and $\\hat{\\beta_0}$ by first calculate $\\bar{x}$ and $\\bar{y}$:"
   ]
  },
  {
   "cell_type": "code",
   "execution_count": 39,
   "metadata": {},
   "outputs": [],
   "source": [
    "X_avg = \n",
    "y_avg = "
   ]
  },
  {
   "cell_type": "markdown",
   "metadata": {},
   "source": [
    "Then, fill in $\\hat{\\beta_1}$ and $\\hat{\\beta_0}$:"
   ]
  },
  {
   "cell_type": "code",
   "execution_count": 31,
   "metadata": {},
   "outputs": [],
   "source": [
    "beta_1_hat = \n",
    "beta_0_hat = "
   ]
  },
  {
   "cell_type": "markdown",
   "metadata": {},
   "source": [
    "Print out the value of $\\hat{\\beta_1}$ and $\\hat{\\beta_0}$:"
   ]
  },
  {
   "cell_type": "code",
   "execution_count": null,
   "metadata": {},
   "outputs": [],
   "source": [
    "print(beta_1_hat)\n",
    "print(beta_0_hat)"
   ]
  },
  {
   "cell_type": "markdown",
   "metadata": {},
   "source": [
    "## Using libraries"
   ]
  },
  {
   "cell_type": "markdown",
   "metadata": {},
   "source": [
    "### Using *Scikit-learn* library:"
   ]
  },
  {
   "cell_type": "markdown",
   "metadata": {},
   "source": [
    "Import `sklearn` module and call the method to fit the linear regression model with the data."
   ]
  },
  {
   "cell_type": "code",
   "execution_count": 40,
   "metadata": {},
   "outputs": [],
   "source": [
    "from sklearn.linear_model import LinearRegression\n",
    "\n",
    "reg = "
   ]
  },
  {
   "cell_type": "markdown",
   "metadata": {},
   "source": [
    "Print out the value of $\\hat{\\beta_1}$ and $\\hat{\\beta_0}$:"
   ]
  },
  {
   "cell_type": "code",
   "execution_count": null,
   "metadata": {},
   "outputs": [],
   "source": [
    "print(reg.coef_)\n",
    "print(reg.intercept_)"
   ]
  },
  {
   "cell_type": "markdown",
   "metadata": {},
   "source": [
    "What is your comment about $\\hat{\\beta_1}$ and $\\hat{\\beta_0}$?"
   ]
  },
  {
   "cell_type": "markdown",
   "metadata": {},
   "source": [
    "### Using *statsmodels* library:"
   ]
  },
  {
   "cell_type": "markdown",
   "metadata": {},
   "source": [
    "Import `statsmodels` module and call the method to fit the linear regression model with the data."
   ]
  },
  {
   "cell_type": "code",
   "execution_count": 41,
   "metadata": {},
   "outputs": [],
   "source": [
    "import statsmodels.api as sm\n",
    "\n",
    "model = \n",
    "results = "
   ]
  },
  {
   "cell_type": "markdown",
   "metadata": {},
   "source": [
    "Print out the value of $\\hat{\\beta_1}$ and $\\hat{\\beta_0}$:"
   ]
  },
  {
   "cell_type": "code",
   "execution_count": null,
   "metadata": {},
   "outputs": [],
   "source": [
    "summarize(results)"
   ]
  },
  {
   "cell_type": "markdown",
   "metadata": {},
   "source": [
    "What is your comment about $\\hat{\\beta_1}$ and $\\hat{\\beta_0}$?"
   ]
  },
  {
   "cell_type": "markdown",
   "metadata": {},
   "source": []
  }
 ],
 "metadata": {
  "kernelspec": {
   "display_name": "learning_ISL_env",
   "language": "python",
   "name": "python3"
  },
  "language_info": {
   "codemirror_mode": {
    "name": "ipython",
    "version": 3
   },
   "file_extension": ".py",
   "mimetype": "text/x-python",
   "name": "python",
   "nbconvert_exporter": "python",
   "pygments_lexer": "ipython3",
   "version": "3.10.15"
  }
 },
 "nbformat": 4,
 "nbformat_minor": 2
}
