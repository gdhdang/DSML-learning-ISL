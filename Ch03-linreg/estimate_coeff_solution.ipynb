{
 "cells": [
  {
   "cell_type": "markdown",
   "metadata": {},
   "source": [
    "## Import packages"
   ]
  },
  {
   "cell_type": "code",
   "execution_count": 1,
   "metadata": {},
   "outputs": [],
   "source": [
    "from ISLP import load_data\n",
    "import pandas as pd\n",
    "import numpy as np\n",
    "from ISLP.models import summarize"
   ]
  },
  {
   "cell_type": "markdown",
   "metadata": {},
   "source": [
    "## Simple Linear Regression"
   ]
  },
  {
   "cell_type": "markdown",
   "metadata": {},
   "source": [
    "Simple Linear Regression is an approach to predict a quantitative response Y based on a single predictor X, assuming there is approximately a linear relationship between X and Y.\n",
    "\n",
    "$$\n",
    "y \\approx \\beta_0 + \\beta_1 x \\tag{1}\n",
    "$$\n",
    "\n",
    "In equation 1, $\\beta_0$ and $\\beta_1$ are two unknown constants that represent the *intercept* and *slope* in the linear model. $\\beta_0$ and $\\beta_1$ are also known as the model *coefficients* or *parameters*. Once we have used our training data to produce estimates $\\hat{\\beta}_0$ and $\\hat{\\beta}_1$ for the model coefficients, we can predict future $\\hat{y}$ by computing:\n",
    "\n",
    "$$\n",
    "\\hat{y} \\approx \\hat{\\beta_0} + \\hat{\\beta_1} x \\tag{2}\n",
    "$$\n",
    "\n",
    "Let's first load the Boston dataset using the `load_data` method from the `ISLP` package:"
   ]
  },
  {
   "cell_type": "code",
   "execution_count": 2,
   "metadata": {},
   "outputs": [],
   "source": [
    "Boston_dataset = load_data(dataset=\"Boston\")"
   ]
  },
  {
   "cell_type": "markdown",
   "metadata": {},
   "source": [
    "We start by fitting simple linear regression model with `lstat` to be the only predictor and `medv` to be the response."
   ]
  },
  {
   "cell_type": "code",
   "execution_count": 3,
   "metadata": {},
   "outputs": [],
   "source": [
    "X = Boston_dataset['lstat']\n",
    "y = Boston_dataset['medv']"
   ]
  },
  {
   "cell_type": "markdown",
   "metadata": {},
   "source": [
    "## Least Squares Method"
   ]
  },
  {
   "cell_type": "markdown",
   "metadata": {},
   "source": [
    "The Least Squares Method is used to estimate $\\beta_0$ and $\\beta_1$ of formula (2):\n",
    "\n",
    "$$\n",
    "\\hat{\\beta_1} = \\frac{\\sum_{i=1}^{n} (x_i - \\bar{x})(y_i - \\bar{y})}{\\sum_{i=1}^{n} (x_i - \\bar{x})^2} \\\\\n",
    "\n",
    "\\hat{\\beta_0} = \\bar{y} - \\hat{\\beta_1} \\bar{x}\n",
    "$$"
   ]
  },
  {
   "cell_type": "markdown",
   "metadata": {},
   "source": [
    "We now attempt to calculate $\\hat{\\beta_1}$ and $\\hat{\\beta_0}$ by first calculate $\\bar{x}$ and $\\bar{y}$:"
   ]
  },
  {
   "cell_type": "code",
   "execution_count": 4,
   "metadata": {},
   "outputs": [],
   "source": [
    "X_avg = np.mean(X)\n",
    "y_avg = np.mean(y)"
   ]
  },
  {
   "cell_type": "markdown",
   "metadata": {},
   "source": [
    "Then, fill in $\\hat{\\beta_1}$ and $\\hat{\\beta_0}$:"
   ]
  },
  {
   "cell_type": "code",
   "execution_count": 5,
   "metadata": {},
   "outputs": [],
   "source": [
    "beta_1_hat = np.sum((X - X_avg) * (y - y_avg)) / np.sum((X - X_avg) ** 2)\n",
    "beta_0_hat = y_avg - beta_1_hat * X_avg"
   ]
  },
  {
   "cell_type": "markdown",
   "metadata": {},
   "source": [
    "Print out the value of $\\hat{\\beta_1}$ and $\\hat{\\beta_0}$:"
   ]
  },
  {
   "cell_type": "code",
   "execution_count": 6,
   "metadata": {},
   "outputs": [
    {
     "name": "stdout",
     "output_type": "stream",
     "text": [
      "-0.9500493537579907\n",
      "34.5538408793831\n"
     ]
    }
   ],
   "source": [
    "print(beta_1_hat)\n",
    "print(beta_0_hat)"
   ]
  },
  {
   "cell_type": "markdown",
   "metadata": {},
   "source": [
    "## Using libraries"
   ]
  },
  {
   "cell_type": "markdown",
   "metadata": {},
   "source": [
    "### Using *Scikit-learn* library:"
   ]
  },
  {
   "cell_type": "markdown",
   "metadata": {},
   "source": [
    "Import `sklearn` module and call the method to fit the linear regression model with the data."
   ]
  },
  {
   "cell_type": "code",
   "execution_count": 7,
   "metadata": {},
   "outputs": [],
   "source": [
    "from sklearn.linear_model import LinearRegression\n",
    "\n",
    "reg = LinearRegression().fit(np.reshape(X.to_numpy(), (-1, 1)), np.reshape(y.to_numpy(), (-1, 1)))"
   ]
  },
  {
   "cell_type": "markdown",
   "metadata": {},
   "source": [
    "Print out the value of $\\hat{\\beta_1}$ and $\\hat{\\beta_0}$:"
   ]
  },
  {
   "cell_type": "code",
   "execution_count": 8,
   "metadata": {},
   "outputs": [
    {
     "name": "stdout",
     "output_type": "stream",
     "text": [
      "[[-0.95004935]]\n",
      "[34.55384088]\n"
     ]
    }
   ],
   "source": [
    "print(reg.coef_)\n",
    "print(reg.intercept_)"
   ]
  },
  {
   "cell_type": "markdown",
   "metadata": {},
   "source": [
    "What is your comment about $\\hat{\\beta_1}$ and $\\hat{\\beta_0}$?"
   ]
  },
  {
   "cell_type": "markdown",
   "metadata": {},
   "source": [
    "Looking at $\\hat{\\beta_1}$ and $\\hat{\\beta_0}$, we have the following comments:\n",
    "- The relationship between the predictor and the response is negative, as $\\hat{\\beta_1} < 0$.\n",
    "- When none of the population has low status, the median value of owner-occupied homes (`medv`) will be $34553, on average.\n",
    "- For each 1% increase in the percentage of lower status of the population (`lstat`), there will be an average decrease in median value of owner-occupied homes (`medv`) of $950."
   ]
  },
  {
   "cell_type": "markdown",
   "metadata": {},
   "source": [
    "### Using *statsmodels* library:"
   ]
  },
  {
   "cell_type": "markdown",
   "metadata": {},
   "source": [
    "Import `statsmodels` module and call the method to fit the linear regression model with the data."
   ]
  },
  {
   "cell_type": "code",
   "execution_count": 9,
   "metadata": {},
   "outputs": [],
   "source": [
    "import statsmodels.api as sm\n",
    "\n",
    "X_mod = pd.DataFrame({'intercept': np.ones(Boston_dataset.shape[0]), 'lstat': X})\n",
    "model = sm.OLS(y, X_mod)\n",
    "results = model.fit()"
   ]
  },
  {
   "cell_type": "markdown",
   "metadata": {},
   "source": [
    "Print out the value of $\\hat{\\beta_1}$ and $\\hat{\\beta_0}$:"
   ]
  },
  {
   "cell_type": "code",
   "execution_count": 10,
   "metadata": {},
   "outputs": [
    {
     "data": {
      "text/html": [
       "<div>\n",
       "<style scoped>\n",
       "    .dataframe tbody tr th:only-of-type {\n",
       "        vertical-align: middle;\n",
       "    }\n",
       "\n",
       "    .dataframe tbody tr th {\n",
       "        vertical-align: top;\n",
       "    }\n",
       "\n",
       "    .dataframe thead th {\n",
       "        text-align: right;\n",
       "    }\n",
       "</style>\n",
       "<table border=\"1\" class=\"dataframe\">\n",
       "  <thead>\n",
       "    <tr style=\"text-align: right;\">\n",
       "      <th></th>\n",
       "      <th>coef</th>\n",
       "      <th>std err</th>\n",
       "      <th>t</th>\n",
       "      <th>P&gt;|t|</th>\n",
       "    </tr>\n",
       "  </thead>\n",
       "  <tbody>\n",
       "    <tr>\n",
       "      <th>intercept</th>\n",
       "      <td>34.5538</td>\n",
       "      <td>0.563</td>\n",
       "      <td>61.415</td>\n",
       "      <td>0.0</td>\n",
       "    </tr>\n",
       "    <tr>\n",
       "      <th>lstat</th>\n",
       "      <td>-0.9500</td>\n",
       "      <td>0.039</td>\n",
       "      <td>-24.528</td>\n",
       "      <td>0.0</td>\n",
       "    </tr>\n",
       "  </tbody>\n",
       "</table>\n",
       "</div>"
      ],
      "text/plain": [
       "              coef  std err       t  P>|t|\n",
       "intercept  34.5538    0.563  61.415    0.0\n",
       "lstat      -0.9500    0.039 -24.528    0.0"
      ]
     },
     "execution_count": 10,
     "metadata": {},
     "output_type": "execute_result"
    }
   ],
   "source": [
    "summarize(results)"
   ]
  },
  {
   "cell_type": "markdown",
   "metadata": {},
   "source": [
    "What is your comment about $\\hat{\\beta_1}$ and $\\hat{\\beta_0}$?"
   ]
  },
  {
   "cell_type": "markdown",
   "metadata": {},
   "source": [
    "Looking at the summary of the `results`, we have the following comments, apart from those given above, about $\\hat{\\beta_1}$ and $\\hat{\\beta_0}$:\n",
    "- As the *p*-value is sufficiently small, we can reject the null hypothesis that $\\hat{\\beta_1} = 0$ and $\\hat{\\beta_0} = 0$. Therefore, there is some relationship between `lstat` and `medv`.\n",
    "- The standard errors of $\\hat{\\beta_1}$ and $\\hat{\\beta_0}$ are very small compared to the coefficients themselves. Hence we can conclude that $\\beta_1 \\neq 0$ and $\\beta_0 \\neq 0$."
   ]
  }
 ],
 "metadata": {
  "kernelspec": {
   "display_name": "ISLP-exercise",
   "language": "python",
   "name": "python3"
  },
  "language_info": {
   "codemirror_mode": {
    "name": "ipython",
    "version": 3
   },
   "file_extension": ".py",
   "mimetype": "text/x-python",
   "name": "python",
   "nbconvert_exporter": "python",
   "pygments_lexer": "ipython3",
   "version": "3.9.20"
  }
 },
 "nbformat": 4,
 "nbformat_minor": 2
}
