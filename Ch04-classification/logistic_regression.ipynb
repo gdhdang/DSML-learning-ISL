{
 "cells": [
  {
   "cell_type": "markdown",
   "id": "75883ea9",
   "metadata": {},
   "source": [
    "## Import Packages"
   ]
  },
  {
   "cell_type": "code",
   "execution_count": 1,
   "id": "a4ccc821",
   "metadata": {},
   "outputs": [],
   "source": [
    "from ISLP import load_data\n",
    "\n",
    "import pandas as pd\n",
    "import numpy as np\n",
    "import matplotlib.pyplot as plt\n",
    "\n",
    "from scipy.special import expit\n",
    "\n",
    "from sklearn.linear_model import LogisticRegression\n",
    "from sklearn.model_selection import train_test_split\n",
    "from sklearn.metrics import classification_report, confusion_matrix, ConfusionMatrixDisplay"
   ]
  },
  {
   "cell_type": "markdown",
   "id": "39235060",
   "metadata": {},
   "source": [
    "For this exercise, the `Default` dataset is used."
   ]
  },
  {
   "cell_type": "code",
   "execution_count": 2,
   "id": "747ee074",
   "metadata": {},
   "outputs": [],
   "source": [
    "Default_dataset = load_data('Default')"
   ]
  },
  {
   "cell_type": "markdown",
   "id": "4f9791fb",
   "metadata": {},
   "source": [
    "## Binary Logistic Regression"
   ]
  },
  {
   "cell_type": "markdown",
   "id": "c6466e0c",
   "metadata": {},
   "source": [
    "Logistic Regression is an approach to the classification problem, where model predicts the *probablilty* that the response Y belongs to a paticular category, instead of directly predicting the value of the response itself.\n",
    "\n",
    "We can use linear regression to represent the mentioned probability.\n",
    "\n",
    "$$\n",
    "p(X) = \\beta_0 + \\beta_1 X \\tag{1}\n",
    "$$\n",
    "\n",
    "As the probability must fall between 0 and 1, the *logistic function* is used. Therefore, equation $(1)$ can be modified as follows.\n",
    "\n",
    "$$\n",
    "p(X) = \\frac{e^{\\beta_0 + \\beta_1 X}}{1 + e^{\\beta_0 + \\beta_1 X}} \\tag{2}\n",
    "$$\n",
    "\n",
    "By a bit of manipulation, we recieve the *log odds*:\n",
    "\n",
    "$$\n",
    "\\log \\left(\\frac{p(X)}{1 - p(X)}\\right) = \\beta_0 + \\beta_1 X \\tag{3}\n",
    "$$\n",
    "\n",
    "To estimate the coefficients $\\beta_0$ and $\\beta_1$, we use a method called *maximum likelihood*. The idea is to find the estimates for the coefficients such that the predicted probability $\\hat{p}(x_i)$ of each predictor corresponds as closely as possible to the observed response. This can be done by choosing $\\beta_0$ and $\\beta_1$ to maximize the *likelihood function*:\n",
    "\n",
    "$$\n",
    "L(\\beta_0, \\beta_1) = \\prod_{i:y_i=1} p(x_i) \\prod_{i':y_i'=0} (1 - p(x_{i'})) \\tag{4}\n",
    "$$"
   ]
  },
  {
   "cell_type": "markdown",
   "id": "7f8a5026",
   "metadata": {},
   "source": [
    "For the Binary Logistic Regression, we choose `balance` to be the only predictor and `default` to be the response."
   ]
  },
  {
   "cell_type": "code",
   "execution_count": 3,
   "id": "623206f7",
   "metadata": {},
   "outputs": [],
   "source": [
    "X_binary = Default_dataset['balance'].copy()\n",
    "y_binary = Default_dataset['default'].copy()"
   ]
  },
  {
   "cell_type": "markdown",
   "id": "bb06849e",
   "metadata": {},
   "source": [
    "Then we fit the data to the model."
   ]
  },
  {
   "cell_type": "code",
   "execution_count": 4,
   "id": "617bc095",
   "metadata": {},
   "outputs": [],
   "source": [
    "model_binary = LogisticRegression().fit(np.reshape(X_binary.to_numpy(), (-1, 1)), np.reshape(y_binary.to_numpy(), -1))"
   ]
  },
  {
   "cell_type": "markdown",
   "id": "3e4222ab",
   "metadata": {},
   "source": [
    "Print out the value of $\\hat{\\beta_0}$ and $\\hat{\\beta_1}$."
   ]
  },
  {
   "cell_type": "code",
   "execution_count": 5,
   "id": "cf76de82",
   "metadata": {},
   "outputs": [
    {
     "name": "stdout",
     "output_type": "stream",
     "text": [
      "[-10.65132824]\n",
      "[[0.00549892]]\n"
     ]
    }
   ],
   "source": [
    "print(model_binary.intercept_)\n",
    "print(model_binary.coef_)"
   ]
  },
  {
   "cell_type": "markdown",
   "id": "5d4eaa6f",
   "metadata": {},
   "source": [
    "We can intepret the result above as:\n",
    "- When the `balance` is 0, the value of log odds is -10.65.\n",
    "- For each 1 unit increase of `balance`, the value of log odds increases 0.005 unit."
   ]
  },
  {
   "cell_type": "markdown",
   "id": "e8433ec0",
   "metadata": {},
   "source": [
    "### Gradient Descent for Binary Logistic Regression"
   ]
  },
  {
   "cell_type": "markdown",
   "id": "2e84352e",
   "metadata": {},
   "source": [
    "In general, we want to choose $\\theta$ to minimize a cost function $J(\\theta)$. We can consider the *Gradient Descent* algorithm, which starts with some initial $\\theta$, then repeatedly changes $\\theta$ to make $J(\\theta)$ smaller, until it converges to a value of $\\theta$ that minimizes $J(\\theta)$. The update of $\\theta$ is as follows, where $\\alpha$ is the *learning rate*:\n",
    "\n",
    "$$\n",
    "\\theta_j := \\theta_j - \\alpha \\frac{\\partial}{\\partial \\theta_j} J(\\theta) \\tag{5}\n",
    "$$\n",
    "\n",
    "For Logistic Regression, instead of minimizing a cost function $J(\\theta)$, we want to maximize the likelihood function $L(\\theta)$. First, we can rewrite equation $(4)$, with some manipulation, as follows:\n",
    "\n",
    "$$\n",
    "L(\\theta) = \\prod_{i} p\\left(x^{(i)}\\right)^{y^{(i)}} \\left(1 - p\\left(x^{(i)}\\right)\\right)^{1 - y^{(i)}} \\tag{6}\n",
    "$$\n",
    "\n",
    "Then the log likelihood will be:\n",
    "\n",
    "$$\n",
    "\\begin{align}\n",
    "\\ell(\\theta) &= \\log L(\\theta) \\\\\n",
    "&= \\sum_{i} y^{(i)} \\log p\\left(x^{(i)}\\right) + \\left(1 - y^{(i)}\\right) \\log \\left(1 - p\\left(x^{(i)}\\right)\\right)\n",
    "\\end{align}\n",
    "\n",
    "\\tag{7}\n",
    "$$\n",
    "\n",
    "In this case, we want to maximize our likelihood function, therefore *Gradient Ascent* can be used. Then the update will be:\n",
    "\n",
    "$$\n",
    "\\theta_j := \\theta_j + \\alpha \\frac{\\partial}{\\partial \\theta_j} \\ell(\\theta) \\tag{8}\n",
    "$$\n",
    "\n",
    "After taking derivatives of $\\ell(\\theta)$, we receive:\n",
    "\n",
    "$$\n",
    "\\frac{\\partial}{\\partial \\theta_j} \\ell(\\theta) = (y - p(x)) x_j \\tag{9}\n",
    "$$\n",
    "\n",
    "This therefore gives us the update rule:\n",
    "\n",
    "$$\n",
    "\\theta_j := \\theta_j + \\alpha \\left(y^{(i)} - p\\left(x^{(i)}\\right)\\right) x_j^{(i)} \\tag{10}\n",
    "$$"
   ]
  },
  {
   "cell_type": "markdown",
   "id": "0226beb3",
   "metadata": {},
   "source": [
    "Let's apply the above theory into our current dataset. First, we will set up necessary elements. In this case, we will set the learning rate to be 0.001."
   ]
  },
  {
   "cell_type": "code",
   "execution_count": 6,
   "id": "af85c957",
   "metadata": {},
   "outputs": [],
   "source": [
    "coef_binary_grad_desc = np.zeros((2, 1))\n",
    "\n",
    "learning_rate = 0.001\n",
    "\n",
    "X_binary_grad_desc = np.reshape(Default_dataset['balance'].copy().to_numpy(), (-1, 1))\n",
    "y_binary_grad_desc = np.reshape(((Default_dataset['default'].copy().to_numpy()) == 'Yes').astype(int), (-1, 1))\n",
    "\n",
    "X_binary_grad_desc = np.insert(X_binary_grad_desc, 0, 1, axis=1)\n",
    "\n",
    "n = len(X_binary_grad_desc)"
   ]
  },
  {
   "cell_type": "markdown",
   "id": "b21b89dd",
   "metadata": {},
   "source": [
    "Then, we run the algorithm with 10 epochs."
   ]
  },
  {
   "cell_type": "code",
   "execution_count": 7,
   "id": "11de4851",
   "metadata": {},
   "outputs": [],
   "source": [
    "epochs = 10\n",
    "\n",
    "for epoch in range(epochs):\n",
    "    for i in range(n):\n",
    "        sigmoid = expit(np.dot(X_binary_grad_desc[i], coef_binary_grad_desc))\n",
    "        update_factor = np.reshape(learning_rate * (y_binary_grad_desc[i].item() - sigmoid) * X_binary_grad_desc[i], (-1, 1))\n",
    "        coef_binary_grad_desc = coef_binary_grad_desc + update_factor"
   ]
  },
  {
   "cell_type": "markdown",
   "id": "4af60066",
   "metadata": {},
   "source": [
    "Print out the coefficients."
   ]
  },
  {
   "cell_type": "code",
   "execution_count": 8,
   "id": "52d84cd0",
   "metadata": {},
   "outputs": [
    {
     "name": "stdout",
     "output_type": "stream",
     "text": [
      "[[-4.01189301]\n",
      " [-0.19058982]]\n"
     ]
    }
   ],
   "source": [
    "print(coef_binary_grad_desc)"
   ]
  },
  {
   "cell_type": "markdown",
   "id": "d5908d18",
   "metadata": {},
   "source": [
    "## Multiple Logistic Regression"
   ]
  },
  {
   "cell_type": "markdown",
   "id": "9ffbcd6a",
   "metadata": {},
   "source": [
    "For Multiple Logistic Regression, we are using every features of the dataset. With binary feature `student`, we will use a dummy variable which has value of 1 for `'Yes'` and 0 for `'No'`."
   ]
  },
  {
   "cell_type": "code",
   "execution_count": 9,
   "id": "295657f8",
   "metadata": {},
   "outputs": [],
   "source": [
    "X_multiple = Default_dataset.copy().drop(axis=1, columns='default')\n",
    "X_multiple['student'] = (X_multiple['student'] == 'Yes').astype(int)\n",
    "y_multiple = Default_dataset['default'].copy()"
   ]
  },
  {
   "cell_type": "markdown",
   "id": "c2c00ecf",
   "metadata": {},
   "source": [
    "Then we fit the data to the model."
   ]
  },
  {
   "cell_type": "code",
   "execution_count": 10,
   "id": "48b0ad83",
   "metadata": {},
   "outputs": [],
   "source": [
    "model_multiple = LogisticRegression().fit(X_multiple, np.reshape(y_multiple.to_numpy(), -1))"
   ]
  },
  {
   "cell_type": "markdown",
   "id": "77238714",
   "metadata": {},
   "source": [
    "Print out the coefficients."
   ]
  },
  {
   "cell_type": "code",
   "execution_count": 11,
   "id": "70c2a2f6",
   "metadata": {},
   "outputs": [
    {
     "name": "stdout",
     "output_type": "stream",
     "text": [
      "[-10.9018116]\n",
      "[[-6.12564499e-01  5.73060606e-03  3.96189943e-06]]\n"
     ]
    }
   ],
   "source": [
    "print(model_multiple.intercept_)\n",
    "print(model_multiple.coef_)"
   ]
  },
  {
   "cell_type": "markdown",
   "id": "7cf01ba0",
   "metadata": {},
   "source": [
    "### Gradient Descent for Multiple Logistic Regression"
   ]
  },
  {
   "cell_type": "markdown",
   "id": "398750f3",
   "metadata": {},
   "source": [
    "Applying what we did above for every feature of the dataset. The learning rate is still 0.001"
   ]
  },
  {
   "cell_type": "code",
   "execution_count": 12,
   "id": "3d887a81",
   "metadata": {},
   "outputs": [],
   "source": [
    "learning_rate = 0.001\n",
    "\n",
    "X_multiple_grad_desc = Default_dataset.copy().drop(axis=1, columns='default')\n",
    "X_multiple_grad_desc['student'] = (X_multiple['student'] == 'Yes').astype(int)\n",
    "\n",
    "y_multiple_grad_desc = np.reshape(((Default_dataset['default'].copy().to_numpy()) == 'Yes').astype(int), (-1, 1))\n",
    "\n",
    "X_multiple_grad_desc = np.insert(X_multiple_grad_desc, 0, 1, axis=1)\n",
    "\n",
    "_, col_num = X_multiple_grad_desc.shape\n",
    "coef_multiple_grad_desc = np.zeros((col_num, 1))\n",
    "\n",
    "n = len(X_multiple_grad_desc)"
   ]
  },
  {
   "cell_type": "markdown",
   "id": "10b37272",
   "metadata": {},
   "source": [
    "And we run 10 epochs."
   ]
  },
  {
   "cell_type": "code",
   "execution_count": 13,
   "id": "32a32c51",
   "metadata": {},
   "outputs": [],
   "source": [
    "epochs = 10\n",
    "\n",
    "for epoch in range(epochs):\n",
    "    for i in range(n):\n",
    "        sigmoid = expit(np.dot(X_multiple_grad_desc[i], coef_multiple_grad_desc))\n",
    "        update_factor = np.reshape(learning_rate * (y_multiple_grad_desc[i].item() - sigmoid) * X_multiple_grad_desc[i], (-1, 1))\n",
    "        coef_multiple_grad_desc = coef_multiple_grad_desc + update_factor"
   ]
  },
  {
   "cell_type": "markdown",
   "id": "bb836b14",
   "metadata": {},
   "source": [
    "Print out the coefficients."
   ]
  },
  {
   "cell_type": "code",
   "execution_count": 14,
   "id": "dadde338",
   "metadata": {},
   "outputs": [
    {
     "name": "stdout",
     "output_type": "stream",
     "text": [
      "[[ -1.2785    ]\n",
      " [  0.        ]\n",
      " [273.89810784]\n",
      " [-23.77276171]]\n"
     ]
    }
   ],
   "source": [
    "print(coef_multiple_grad_desc)"
   ]
  },
  {
   "cell_type": "markdown",
   "id": "16144514",
   "metadata": {},
   "source": [
    "## Train/Test Splitting"
   ]
  },
  {
   "cell_type": "markdown",
   "id": "3872c5e5",
   "metadata": {},
   "source": [
    "We now perform train/test splitting with 80/20 ratio on the raw dataset. For consistency, the `random_state` is set to 42."
   ]
  },
  {
   "cell_type": "code",
   "execution_count": 15,
   "id": "ca1f9d47",
   "metadata": {},
   "outputs": [],
   "source": [
    "X_raw = Default_dataset.copy().drop(axis=1, columns='default')\n",
    "X_raw['student'] = (X_raw['student'] == 'Yes').astype(int)\n",
    "y_raw = Default_dataset['default'].copy()\n",
    "\n",
    "X_train, X_test, y_train, y_test = train_test_split(\n",
    "    X_raw, y_raw,\n",
    "    test_size=0.2,\n",
    "    random_state=42,\n",
    "    shuffle=True,\n",
    "    stratify=y_raw\n",
    ")"
   ]
  },
  {
   "cell_type": "markdown",
   "id": "cdf9fea3",
   "metadata": {},
   "source": [
    "For comparison purposes, the target class distribution is illustrated below."
   ]
  },
  {
   "cell_type": "code",
   "execution_count": 16,
   "id": "17b16871",
   "metadata": {},
   "outputs": [
    {
     "data": {
      "image/png": "[encoded data removed]",
      "text/plain": [
       "<Figure size 800x400 with 1 Axes>"
      ]
     },
     "metadata": {},
     "output_type": "display_data"
    }
   ],
   "source": [
    "distribution = {}\n",
    "\n",
    "raw_pct = y_raw.value_counts(normalize=True) * 100\n",
    "test_pct = y_test.value_counts(normalize=True) * 100\n",
    "\n",
    "distribution['Raw'] = raw_pct\n",
    "distribution['80/20'] = test_pct\n",
    "\n",
    "dist_df = pd.DataFrame(distribution).T\n",
    "\n",
    "dist_df.plot(kind='bar', figsize=(8, 4), legend=True, ylim=(0, 100), xlabel='Splittings', ylabel='Percentage')\n",
    "plt.xticks(rotation=0)\n",
    "plt.show()"
   ]
  },
  {
   "cell_type": "markdown",
   "id": "85f867d3",
   "metadata": {},
   "source": [
    "As can be seen from the plot, `No` values accounts for over 90% appearance in the dataset."
   ]
  },
  {
   "cell_type": "markdown",
   "id": "2fdc0133",
   "metadata": {},
   "source": [
    "Then, we fit the train data to the model."
   ]
  },
  {
   "cell_type": "code",
   "execution_count": 17,
   "id": "f6fefe14",
   "metadata": {},
   "outputs": [],
   "source": [
    "model_proc = LogisticRegression().fit(X_train, y_train)"
   ]
  },
  {
   "cell_type": "markdown",
   "id": "31fd712e",
   "metadata": {},
   "source": [
    "And print out the coefficients."
   ]
  },
  {
   "cell_type": "code",
   "execution_count": 18,
   "id": "c9b0b8e7",
   "metadata": {},
   "outputs": [
    {
     "name": "stdout",
     "output_type": "stream",
     "text": [
      "[-10.66719106]\n",
      "[[-6.06191571e-01  5.71274780e-03 -1.71262652e-06]]\n"
     ]
    }
   ],
   "source": [
    "print(model_proc.intercept_)\n",
    "print(model_proc.coef_)"
   ]
  },
  {
   "cell_type": "markdown",
   "id": "5b2a46f2",
   "metadata": {},
   "source": [
    "Comparing these coefficients with those of the raw model, all of the coefficients are highly similar. \n",
    "\n",
    "Finally, the model performance is checked using `classification_report` and `confusion_matrix`."
   ]
  },
  {
   "cell_type": "code",
   "execution_count": 19,
   "id": "423dff7b",
   "metadata": {},
   "outputs": [
    {
     "name": "stdout",
     "output_type": "stream",
     "text": [
      "              precision    recall  f1-score   support\n",
      "\n",
      "          No       0.98      1.00      0.99      1933\n",
      "         Yes       0.70      0.31      0.43        67\n",
      "\n",
      "    accuracy                           0.97      2000\n",
      "   macro avg       0.84      0.65      0.71      2000\n",
      "weighted avg       0.97      0.97      0.97      2000\n",
      "\n"
     ]
    },
    {
     "data": {
      "text/plain": [
       "<sklearn.metrics._plot.confusion_matrix.ConfusionMatrixDisplay at 0x2037cf2c220>"
      ]
     },
     "execution_count": 19,
     "metadata": {},
     "output_type": "execute_result"
    },
    {
     "data": {
      "image/png": "[encoded data removed]",
      "text/plain": [
       "<Figure size 640x480 with 2 Axes>"
      ]
     },
     "metadata": {},
     "output_type": "display_data"
    }
   ],
   "source": [
    "y_pred = model_proc.predict(X_test)\n",
    "target_name = ['No', 'Yes']\n",
    "\n",
    "report = classification_report(\n",
    "    y_test, y_pred, target_names=target_name\n",
    ")\n",
    "print(report)\n",
    "\n",
    "conf_matrix = confusion_matrix(\n",
    "    y_test, y_pred, labels=target_name\n",
    ")\n",
    "conf_mat_disp = ConfusionMatrixDisplay(confusion_matrix=conf_matrix, display_labels=target_name)\n",
    "conf_mat_disp.plot(cmap='Blues', values_format='d')"
   ]
  },
  {
   "cell_type": "markdown",
   "id": "8bde8856",
   "metadata": {},
   "source": [
    "From the result above, we can draw some comments:\n",
    "- For `No`, the model performs exceptionally well, with precision, recall and f1-score are all 0.98 and above. This might come from the large proportion of appearance of `No` class in the training set.\n",
    "- In contrast, the model does not have good performance on predicting `Yes`. As this can result from small percentage of appearance in the training set.\n",
    "- The model often mispredict `Yes` into `No`, as can be seen from the confusion matrix, with the mispredict doubles the correct ones.\n",
    "- Overall, it is quite obvious that the model performs well on predicting `No` class, while being struggle to correctly predict `Yes` class in many situations."
   ]
  }
 ],
 "metadata": {
  "kernelspec": {
   "display_name": "ISLP-exercise",
   "language": "python",
   "name": "python3"
  },
  "language_info": {
   "codemirror_mode": {
    "name": "ipython",
    "version": 3
   },
   "file_extension": ".py",
   "mimetype": "text/x-python",
   "name": "python",
   "nbconvert_exporter": "python",
   "pygments_lexer": "ipython3",
   "version": "3.9.20"
  }
 },
 "nbformat": 4,
 "nbformat_minor": 5
}
